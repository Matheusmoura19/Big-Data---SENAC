{
 "cells": [
  {
   "cell_type": "markdown",
   "id": "7ffb50ff",
   "metadata": {},
   "source": [
    "#### Importar bibliotecas"
   ]
  },
  {
   "cell_type": "code",
   "execution_count": 1,
   "id": "71c29c45",
   "metadata": {},
   "outputs": [],
   "source": [
    "import pandas as pd  # Manipulação e análise de dados\n",
    "import requests      # Requisições HTTP para consumir APIs\n",
    "import json          # Manipular arquivos JSON"
   ]
  },
  {
   "cell_type": "markdown",
   "id": "8e69d314",
   "metadata": {},
   "source": [
    "#### Definindo a URL da API\n",
    "Com o objetivo de consultar o endpoint das Expectativas de Mercado Mensais:"
   ]
  },
  {
   "cell_type": "code",
   "execution_count": 2,
   "id": "ea2b02fc",
   "metadata": {},
   "outputs": [],
   "source": [
    "url = \"https://olinda.bcb.gov.br/olinda/servico/Expectativas/versao/v1/odata/ExpectativaMercadoMensais?$top=100&$format=json&$select=Indicador,Data,DataReferencia,Media,Mediana,DesvioPadrao,Minimo,Maximo,numeroRespondentes,baseCalculo\""
   ]
  },
  {
   "cell_type": "markdown",
   "id": "8755bc81",
   "metadata": {},
   "source": [
    "#### Criando a função para requisição e salvar o JSON"
   ]
  },
  {
   "cell_type": "code",
   "execution_count": 3,
   "id": "d1eb8a0b",
   "metadata": {},
   "outputs": [],
   "source": [
    "def requisicao_api(link, json_filename=\"expectativas_mensais.json\"):\n",
    "    resposta = requests.get(link)\n",
    "    print(\"Status Code:\", resposta.status_code)\n",
    "\n",
    "    if resposta.status_code == 200:\n",
    "        dados = resposta.json()\n",
    "        with open(json_filename, 'w', encoding='utf-8') as arquivo:\n",
    "            json.dump(dados, arquivo, ensure_ascii=False, indent=4)\n",
    "        print(f\"Dados salvos em JSON: {json_filename}\")\n",
    "    else:\n",
    "        print(\"Falha na requisição.\")"
   ]
  },
  {
   "cell_type": "markdown",
   "id": "f5288237",
   "metadata": {},
   "source": [
    "Executar a requisição"
   ]
  },
  {
   "cell_type": "code",
   "execution_count": 6,
   "id": "3a76d742",
   "metadata": {},
   "outputs": [
    {
     "name": "stdout",
     "output_type": "stream",
     "text": [
      "Status Code: 200\n",
      "Dados salvos em JSON: expectativas_mensais.json\n"
     ]
    }
   ],
   "source": [
    "requisicao_api(url)"
   ]
  },
  {
   "cell_type": "markdown",
   "id": "08321f9e",
   "metadata": {},
   "source": [
    "#### Lendo o JSON e para converter em DataFrame"
   ]
  },
  {
   "cell_type": "code",
   "execution_count": 7,
   "id": "5191128f",
   "metadata": {},
   "outputs": [],
   "source": [
    "jsondata = pd.read_json(\"expectativas_mensais.json\")\n",
    "data = jsondata.get(\"value\", [])  # A API retorna os dados\n",
    "df = pd.json_normalize(data)"
   ]
  },
  {
   "cell_type": "markdown",
   "id": "fe938279",
   "metadata": {},
   "source": [
    "#### Salvando o DataFrame em CSV"
   ]
  },
  {
   "cell_type": "code",
   "execution_count": 8,
   "id": "9a797df3",
   "metadata": {},
   "outputs": [
    {
     "name": "stdout",
     "output_type": "stream",
     "text": [
      "Arquivo CSV salvo: expectativas_mercado-mensais.csv\n"
     ]
    }
   ],
   "source": [
    "output_csv = \"expectativas_mercado-mensais.csv\"\n",
    "df.to_csv(output_csv, index=False, encoding=\"utf-8-sig\")\n",
    "print(f\"Arquivo CSV salvo: {output_csv}\")"
   ]
  }
 ],
 "metadata": {
  "kernelspec": {
   "display_name": ".venv",
   "language": "python",
   "name": "python3"
  },
  "language_info": {
   "codemirror_mode": {
    "name": "ipython",
    "version": 3
   },
   "file_extension": ".py",
   "mimetype": "text/x-python",
   "name": "python",
   "nbconvert_exporter": "python",
   "pygments_lexer": "ipython3",
   "version": "3.12.10"
  }
 },
 "nbformat": 4,
 "nbformat_minor": 5
}
