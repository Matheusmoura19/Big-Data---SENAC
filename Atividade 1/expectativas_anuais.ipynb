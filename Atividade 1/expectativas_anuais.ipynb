{
 "cells": [
  {
   "cell_type": "markdown",
   "id": "ed17a002",
   "metadata": {},
   "source": [
    "#### Importar bibliotecas"
   ]
  },
  {
   "cell_type": "code",
   "execution_count": 1,
   "id": "14332f75",
   "metadata": {},
   "outputs": [],
   "source": [
    "import pandas as pd  # Manipulação e análise de dados\n",
    "import requests      # Requisições HTTP para consumir APIs\n",
    "import json          # Manipular arquivos JSON"
   ]
  },
  {
   "cell_type": "markdown",
   "id": "bc549741",
   "metadata": {},
   "source": [
    "#### Definindo a URL da API\n",
    "Com o objetivo de consultar o endpoint das Expectativas de Mercado Anuais:"
   ]
  },
  {
   "cell_type": "code",
   "execution_count": 2,
   "id": "2d3e54c0",
   "metadata": {},
   "outputs": [],
   "source": [
    "url = \"https://olinda.bcb.gov.br/olinda/servico/Expectativas/versao/v1/odata/ExpectativasMercadoAnuais?$top=100&$format=json&$select=Indicador,IndicadorDetalhe,Data,DataReferencia,Media,Mediana,DesvioPadrao,Minimo,Maximo,numeroRespondentes,baseCalculo\""
   ]
  },
  {
   "cell_type": "markdown",
   "id": "fa402fc5",
   "metadata": {},
   "source": [
    "#### Criando a função para requisição e salvar o JSON"
   ]
  },
  {
   "cell_type": "code",
   "execution_count": 3,
   "id": "b8d8f2a2",
   "metadata": {},
   "outputs": [],
   "source": [
    "def requisicao_api(link, json_filename=\"expectativas_anuais.json\"):\n",
    "    resposta = requests.get(link)\n",
    "    print(\"Status Code:\", resposta.status_code)\n",
    "\n",
    "    if resposta.status_code == 200:\n",
    "        dados = resposta.json()\n",
    "        with open(json_filename, 'w', encoding='utf-8') as arquivo:\n",
    "            json.dump(dados, arquivo, ensure_ascii=False, indent=4)\n",
    "        print(f\"Dados salvos em JSON: {json_filename}\")\n",
    "    else:\n",
    "        print(\"Falha na requisição.\")"
   ]
  },
  {
   "cell_type": "markdown",
   "id": "f73627f8",
   "metadata": {},
   "source": [
    "Executar a requisição"
   ]
  },
  {
   "cell_type": "code",
   "execution_count": 4,
   "id": "d98e6150",
   "metadata": {},
   "outputs": [
    {
     "name": "stdout",
     "output_type": "stream",
     "text": [
      "Status Code: 200\n",
      "Dados salvos em JSON: expectativas_anuais.json\n"
     ]
    }
   ],
   "source": [
    "requisicao_api(url, json_filename=\"expectativas_anuais.json\")"
   ]
  },
  {
   "cell_type": "markdown",
   "id": "96a893a4",
   "metadata": {},
   "source": [
    "#### Lendo o JSON e para converter em DataFrame"
   ]
  },
  {
   "cell_type": "code",
   "execution_count": 5,
   "id": "c34797f9",
   "metadata": {},
   "outputs": [],
   "source": [
    "jsondata = pd.read_json(\"expectativas_anuais.json\")\n",
    "data = jsondata.get(\"value\", [])\n",
    "df = pd.json_normalize(data)"
   ]
  },
  {
   "cell_type": "markdown",
   "id": "6086e8ab",
   "metadata": {},
   "source": [
    "#### Salvando o DataFrame em CSV"
   ]
  },
  {
   "cell_type": "code",
   "execution_count": 6,
   "id": "bce75b69",
   "metadata": {},
   "outputs": [
    {
     "name": "stdout",
     "output_type": "stream",
     "text": [
      "Arquivo CSV salvo: expectativas_anuais.csv\n"
     ]
    }
   ],
   "source": [
    "output_csv = \"expectativas_anuais.csv\"\n",
    "df.to_csv(output_csv, index=False, encoding=\"utf-8-sig\")\n",
    "print(f\"Arquivo CSV salvo: {output_csv}\")"
   ]
  }
 ],
 "metadata": {
  "kernelspec": {
   "display_name": ".venv",
   "language": "python",
   "name": "python3"
  },
  "language_info": {
   "codemirror_mode": {
    "name": "ipython",
    "version": 3
   },
   "file_extension": ".py",
   "mimetype": "text/x-python",
   "name": "python",
   "nbconvert_exporter": "python",
   "pygments_lexer": "ipython3",
   "version": "3.12.10"
  }
 },
 "nbformat": 4,
 "nbformat_minor": 5
}
