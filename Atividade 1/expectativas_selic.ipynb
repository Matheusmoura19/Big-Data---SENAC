{
 "cells": [
  {
   "cell_type": "markdown",
   "id": "dbc1520b",
   "metadata": {},
   "source": [
    "#### Importar bibliotecas"
   ]
  },
  {
   "cell_type": "code",
   "execution_count": 2,
   "id": "8958f201",
   "metadata": {},
   "outputs": [],
   "source": [
    "import pandas as pd  # Manipulação e análise de dados\n",
    "import requests      # Requisições HTTP para consumir APIs\n",
    "import json          # Manipular arquivos JSON"
   ]
  },
  {
   "cell_type": "markdown",
   "id": "e6e07d0d",
   "metadata": {},
   "source": [
    "#### Definindo a URL da API\n",
    "Com o objetivo de consultar o endpoint das Expectativas de Mercado Anuais:"
   ]
  },
  {
   "cell_type": "code",
   "execution_count": 3,
   "id": "3f9a32aa",
   "metadata": {},
   "outputs": [],
   "source": [
    "url = \"https://olinda.bcb.gov.br/olinda/servico/Expectativas/versao/v1/odata/ExpectativasMercadoSelic?$top=100&$format=json&$select=Indicador,Data,Reuniao,Media,Mediana,DesvioPadrao,Minimo,Maximo,numeroRespondentes,baseCalculo\""
   ]
  },
  {
   "cell_type": "markdown",
   "id": "c25e90bf",
   "metadata": {},
   "source": [
    "#### Criando a função para requisição e salvar o JSON"
   ]
  },
  {
   "cell_type": "code",
   "execution_count": 4,
   "id": "0fe3126d",
   "metadata": {},
   "outputs": [],
   "source": [
    "def requisicao_api(link, json_filename=\"expectativa_selic.json\"):\n",
    "    resposta = requests.get(link)\n",
    "    print(\"Status Code:\", resposta.status_code)\n",
    "\n",
    "    if resposta.status_code == 200:\n",
    "        dados = resposta.json()\n",
    "        with open(json_filename, 'w', encoding='utf-8') as arquivo:\n",
    "            json.dump(dados, arquivo, ensure_ascii=False, indent=4)\n",
    "        print(f\"Dados salvos em JSON: {json_filename}\")\n",
    "    else:\n",
    "        print(\"Falha na requisição.\")"
   ]
  },
  {
   "cell_type": "markdown",
   "id": "e7eab3d1",
   "metadata": {},
   "source": [
    "Executar a requisição"
   ]
  },
  {
   "cell_type": "code",
   "execution_count": 5,
   "id": "f0f13e32",
   "metadata": {},
   "outputs": [
    {
     "name": "stdout",
     "output_type": "stream",
     "text": [
      "Status Code: 200\n",
      "Dados salvos em JSON: expectativa_selic.json\n"
     ]
    }
   ],
   "source": [
    "requisicao_api(url, json_filename=\"expectativa_selic.json\")"
   ]
  },
  {
   "cell_type": "markdown",
   "id": "bde0ab20",
   "metadata": {},
   "source": [
    "#### Lendo o JSON e para converter em DataFrame"
   ]
  },
  {
   "cell_type": "code",
   "execution_count": 6,
   "id": "3ca97307",
   "metadata": {},
   "outputs": [],
   "source": [
    "jsondata = pd.read_json(\"expectativa_selic.json\")\n",
    "data = jsondata.get(\"value\", [])\n",
    "df = pd.json_normalize(data)"
   ]
  },
  {
   "cell_type": "markdown",
   "id": "dac31228",
   "metadata": {},
   "source": [
    "#### Salvando o DataFrame em CSV"
   ]
  },
  {
   "cell_type": "code",
   "execution_count": 7,
   "id": "e64145b3",
   "metadata": {},
   "outputs": [
    {
     "name": "stdout",
     "output_type": "stream",
     "text": [
      "Arquivo CSV salvo: expectativa_selic.csv\n"
     ]
    }
   ],
   "source": [
    "output_csv = \"expectativa_selic.csv\"\n",
    "df.to_csv(output_csv, index=False, encoding=\"utf-8-sig\")\n",
    "print(f\"Arquivo CSV salvo: {output_csv}\")"
   ]
  }
 ],
 "metadata": {
  "kernelspec": {
   "display_name": ".venv",
   "language": "python",
   "name": "python3"
  },
  "language_info": {
   "codemirror_mode": {
    "name": "ipython",
    "version": 3
   },
   "file_extension": ".py",
   "mimetype": "text/x-python",
   "name": "python",
   "nbconvert_exporter": "python",
   "pygments_lexer": "ipython3",
   "version": "3.12.10"
  }
 },
 "nbformat": 4,
 "nbformat_minor": 5
}
